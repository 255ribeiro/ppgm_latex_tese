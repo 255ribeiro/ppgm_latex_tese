{
 "cells": [
  {
   "cell_type": "code",
   "execution_count": null,
   "metadata": {},
   "outputs": [
    {
     "ename": "NameError",
     "evalue": "name 'bsrn_username' is not defined",
     "output_type": "error",
     "traceback": [
      "\u001b[1;31m---------------------------------------------------------------------------\u001b[0m",
      "\u001b[1;31mNameError\u001b[0m                                 Traceback (most recent call last)",
      "\u001b[1;32md:\\gitrepos\\ppgm_latex_tese\\notebook_tests\\testes_BSRN.ipynb Cell 1\u001b[0m in \u001b[0;36m<cell line: 4>\u001b[1;34m()\u001b[0m\n\u001b[0;32m      <a href='vscode-notebook-cell:/d%3A/gitrepos/ppgm_latex_tese/notebook_tests/testes_BSRN.ipynb#W0sZmlsZQ%3D%3D?line=0'>1</a>\u001b[0m \u001b[39mimport\u001b[39;00m \u001b[39mpvlib\u001b[39;00m\n\u001b[0;32m      <a href='vscode-notebook-cell:/d%3A/gitrepos/ppgm_latex_tese/notebook_tests/testes_BSRN.ipynb#W0sZmlsZQ%3D%3D?line=1'>2</a>\u001b[0m \u001b[39mimport\u001b[39;00m \u001b[39mpandas\u001b[39;00m \u001b[39mas\u001b[39;00m \u001b[39mpd\u001b[39;00m\n\u001b[0;32m      <a href='vscode-notebook-cell:/d%3A/gitrepos/ppgm_latex_tese/notebook_tests/testes_BSRN.ipynb#W0sZmlsZQ%3D%3D?line=3'>4</a>\u001b[0m df, meta \u001b[39m=\u001b[39m pvlib\u001b[39m.\u001b[39miotools\u001b[39m.\u001b[39mget_bsrn(\n\u001b[0;32m      <a href='vscode-notebook-cell:/d%3A/gitrepos/ppgm_latex_tese/notebook_tests/testes_BSRN.ipynb#W0sZmlsZQ%3D%3D?line=4'>5</a>\u001b[0m     station\u001b[39m=\u001b[39m\u001b[39m'\u001b[39m\u001b[39mBRB\u001b[39m\u001b[39m'\u001b[39m,  \u001b[39m# three letter code for the BSB station\u001b[39;00m\n\u001b[0;32m      <a href='vscode-notebook-cell:/d%3A/gitrepos/ppgm_latex_tese/notebook_tests/testes_BSRN.ipynb#W0sZmlsZQ%3D%3D?line=5'>6</a>\u001b[0m     start\u001b[39m=\u001b[39mpd\u001b[39m.\u001b[39mTimestamp(\u001b[39m2018\u001b[39m,\u001b[39m6\u001b[39m,\u001b[39m1\u001b[39m),\n\u001b[0;32m      <a href='vscode-notebook-cell:/d%3A/gitrepos/ppgm_latex_tese/notebook_tests/testes_BSRN.ipynb#W0sZmlsZQ%3D%3D?line=6'>7</a>\u001b[0m     end\u001b[39m=\u001b[39mpd\u001b[39m.\u001b[39mTimestamp(\u001b[39m2018\u001b[39m,\u001b[39m7\u001b[39m,\u001b[39m14\u001b[39m),\n\u001b[1;32m----> <a href='vscode-notebook-cell:/d%3A/gitrepos/ppgm_latex_tese/notebook_tests/testes_BSRN.ipynb#W0sZmlsZQ%3D%3D?line=7'>8</a>\u001b[0m     username\u001b[39m=\u001b[39mbsrn_username,  \u001b[39m# replace with your own username\u001b[39;00m\n\u001b[0;32m      <a href='vscode-notebook-cell:/d%3A/gitrepos/ppgm_latex_tese/notebook_tests/testes_BSRN.ipynb#W0sZmlsZQ%3D%3D?line=8'>9</a>\u001b[0m     password\u001b[39m=\u001b[39mbsrn_password,  \u001b[39m# replace with your own password\u001b[39;00m\n\u001b[0;32m     <a href='vscode-notebook-cell:/d%3A/gitrepos/ppgm_latex_tese/notebook_tests/testes_BSRN.ipynb#W0sZmlsZQ%3D%3D?line=9'>10</a>\u001b[0m )\n\u001b[0;32m     <a href='vscode-notebook-cell:/d%3A/gitrepos/ppgm_latex_tese/notebook_tests/testes_BSRN.ipynb#W0sZmlsZQ%3D%3D?line=11'>12</a>\u001b[0m df\u001b[39m.\u001b[39mhead(\u001b[39m12\u001b[39m)\n",
      "\u001b[1;31mNameError\u001b[0m: name 'bsrn_username' is not defined"
     ]
    }
   ],
   "source": [
    "import pvlib\n",
    "import pandas as pd\n",
    "\n",
    "df, meta = pvlib.iotools.get_bsrn(\n",
    "    station='BRB',  # three letter code for the BSB station\n",
    "    start=pd.Timestamp(2018,6,1),\n",
    "    end=pd.Timestamp(2018,7,14),\n",
    "    username=bsrn_username,  # replace with your own username\n",
    "    password=bsrn_password,  # replace with your own password\n",
    ")\n",
    "\n",
    "df.head(12)"
   ]
  },
  {
   "attachments": {},
   "cell_type": "markdown",
   "metadata": {},
   "source": [
    "$$ Is = \\sqrt{\\frac{(CumSum_1-M_1)^2 + (CumSum_2-M_2)^2 \\dots + (CumSum_n-M_n)^2}{n}}$$"
   ]
  },
  {
   "cell_type": "code",
   "execution_count": null,
   "metadata": {},
   "outputs": [],
   "source": []
  }
 ],
 "metadata": {
  "kernelspec": {
   "display_name": "base",
   "language": "python",
   "name": "python3"
  },
  "language_info": {
   "codemirror_mode": {
    "name": "ipython",
    "version": 3
   },
   "file_extension": ".py",
   "mimetype": "text/x-python",
   "name": "python",
   "nbconvert_exporter": "python",
   "pygments_lexer": "ipython3",
   "version": "3.12.7"
  },
  "orig_nbformat": 4
 },
 "nbformat": 4,
 "nbformat_minor": 2
}
